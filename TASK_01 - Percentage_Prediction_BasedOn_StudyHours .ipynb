{
 "cells": [
  {
   "cell_type": "markdown",
   "id": "87366247",
   "metadata": {},
   "source": [
    "# THE SPARKS FOUNDATION\n",
    "\n",
    "#### INTERN NAME - SHABAZ SHIRALKAR\n",
    "\n",
    "GRIP_SEPTEMBER_2021_DATA_SCIENCE & BUSINESS_ANALYTICS INTERNSHIP\n",
    "\n",
    "BEGINNER LEVEL TASK 1 - SIMPLE LINEAR REGRESSION\n",
    "\n",
    "TASK-01 :- PREDICTION OF PERCENTAGE OF A STUDENT BASED ON NUMBER OF HOURS HE/SHE STUDIED. HERE, I'M USING SIMPLE LINEAR REGRESSION AS IT INVOLVES JUST TWO VARIABLES. I'VE CODED USING PYTHON AS A LANGUAGE AND JUPUTER AS AN IDE.                      "
   ]
  },
  {
   "cell_type": "markdown",
   "id": "d94d11de",
   "metadata": {},
   "source": [
    "## IMPORTS\n",
    "Importing pandas, numpy, matplotlib and seaborn. Then setting %matplotlib inline."
   ]
  },
  {
   "cell_type": "code",
   "execution_count": 3,
   "id": "2c7b5a75",
   "metadata": {},
   "outputs": [],
   "source": [
    "import pandas as pd\n",
    "import numpy as np\n",
    "import matplotlib.pyplot as plt\n",
    "import seaborn as sns\n",
    "%matplotlib inline"
   ]
  },
  {
   "cell_type": "markdown",
   "id": "85d808fd",
   "metadata": {},
   "source": [
    "## LOAD DATASET\n",
    "We're going to work on student data with two numerical value columns namely:\n",
    "* Hours : NO. OF HOURS STUDENT STUDIED\n",
    "* Scores : NO. OF PERCENTAGE SCORED BY A STUDENT"
   ]
  },
  {
   "cell_type": "code",
   "execution_count": 4,
   "id": "7eeee72b",
   "metadata": {},
   "outputs": [],
   "source": [
    "#Reading data from provided link\n",
    "url = \"http://bit.ly/w-data\"\n",
    "df = pd.read_csv(url)"
   ]
  },
  {
   "cell_type": "markdown",
   "id": "3a84aecf",
   "metadata": {},
   "source": [
    "### Checking the head of customers, and checking out its info() and describe() methods."
   ]
  },
  {
   "cell_type": "code",
   "execution_count": 5,
   "id": "d19ee328",
   "metadata": {},
   "outputs": [
    {
     "data": {
      "text/html": [
       "<div>\n",
       "<style scoped>\n",
       "    .dataframe tbody tr th:only-of-type {\n",
       "        vertical-align: middle;\n",
       "    }\n",
       "\n",
       "    .dataframe tbody tr th {\n",
       "        vertical-align: top;\n",
       "    }\n",
       "\n",
       "    .dataframe thead th {\n",
       "        text-align: right;\n",
       "    }\n",
       "</style>\n",
       "<table border=\"1\" class=\"dataframe\">\n",
       "  <thead>\n",
       "    <tr style=\"text-align: right;\">\n",
       "      <th></th>\n",
       "      <th>Hours</th>\n",
       "      <th>Scores</th>\n",
       "    </tr>\n",
       "  </thead>\n",
       "  <tbody>\n",
       "    <tr>\n",
       "      <th>0</th>\n",
       "      <td>2.5</td>\n",
       "      <td>21</td>\n",
       "    </tr>\n",
       "    <tr>\n",
       "      <th>1</th>\n",
       "      <td>5.1</td>\n",
       "      <td>47</td>\n",
       "    </tr>\n",
       "    <tr>\n",
       "      <th>2</th>\n",
       "      <td>3.2</td>\n",
       "      <td>27</td>\n",
       "    </tr>\n",
       "    <tr>\n",
       "      <th>3</th>\n",
       "      <td>8.5</td>\n",
       "      <td>75</td>\n",
       "    </tr>\n",
       "    <tr>\n",
       "      <th>4</th>\n",
       "      <td>3.5</td>\n",
       "      <td>30</td>\n",
       "    </tr>\n",
       "  </tbody>\n",
       "</table>\n",
       "</div>"
      ],
      "text/plain": [
       "   Hours  Scores\n",
       "0    2.5      21\n",
       "1    5.1      47\n",
       "2    3.2      27\n",
       "3    8.5      75\n",
       "4    3.5      30"
      ]
     },
     "execution_count": 5,
     "metadata": {},
     "output_type": "execute_result"
    }
   ],
   "source": [
    "df.head(5)"
   ]
  },
  {
   "cell_type": "code",
   "execution_count": 6,
   "id": "523ac4fd",
   "metadata": {},
   "outputs": [
    {
     "name": "stdout",
     "output_type": "stream",
     "text": [
      "<class 'pandas.core.frame.DataFrame'>\n",
      "RangeIndex: 25 entries, 0 to 24\n",
      "Data columns (total 2 columns):\n",
      " #   Column  Non-Null Count  Dtype  \n",
      "---  ------  --------------  -----  \n",
      " 0   Hours   25 non-null     float64\n",
      " 1   Scores  25 non-null     int64  \n",
      "dtypes: float64(1), int64(1)\n",
      "memory usage: 528.0 bytes\n"
     ]
    }
   ],
   "source": [
    "df.info()"
   ]
  },
  {
   "cell_type": "code",
   "execution_count": 5,
   "id": "b2a7b346",
   "metadata": {},
   "outputs": [
    {
     "data": {
      "text/html": [
       "<div>\n",
       "<style scoped>\n",
       "    .dataframe tbody tr th:only-of-type {\n",
       "        vertical-align: middle;\n",
       "    }\n",
       "\n",
       "    .dataframe tbody tr th {\n",
       "        vertical-align: top;\n",
       "    }\n",
       "\n",
       "    .dataframe thead th {\n",
       "        text-align: right;\n",
       "    }\n",
       "</style>\n",
       "<table border=\"1\" class=\"dataframe\">\n",
       "  <thead>\n",
       "    <tr style=\"text-align: right;\">\n",
       "      <th></th>\n",
       "      <th>Hours</th>\n",
       "      <th>Scores</th>\n",
       "    </tr>\n",
       "  </thead>\n",
       "  <tbody>\n",
       "    <tr>\n",
       "      <th>count</th>\n",
       "      <td>25.000000</td>\n",
       "      <td>25.000000</td>\n",
       "    </tr>\n",
       "    <tr>\n",
       "      <th>mean</th>\n",
       "      <td>5.012000</td>\n",
       "      <td>51.480000</td>\n",
       "    </tr>\n",
       "    <tr>\n",
       "      <th>std</th>\n",
       "      <td>2.525094</td>\n",
       "      <td>25.286887</td>\n",
       "    </tr>\n",
       "    <tr>\n",
       "      <th>min</th>\n",
       "      <td>1.100000</td>\n",
       "      <td>17.000000</td>\n",
       "    </tr>\n",
       "    <tr>\n",
       "      <th>25%</th>\n",
       "      <td>2.700000</td>\n",
       "      <td>30.000000</td>\n",
       "    </tr>\n",
       "    <tr>\n",
       "      <th>50%</th>\n",
       "      <td>4.800000</td>\n",
       "      <td>47.000000</td>\n",
       "    </tr>\n",
       "    <tr>\n",
       "      <th>75%</th>\n",
       "      <td>7.400000</td>\n",
       "      <td>75.000000</td>\n",
       "    </tr>\n",
       "    <tr>\n",
       "      <th>max</th>\n",
       "      <td>9.200000</td>\n",
       "      <td>95.000000</td>\n",
       "    </tr>\n",
       "  </tbody>\n",
       "</table>\n",
       "</div>"
      ],
      "text/plain": [
       "           Hours     Scores\n",
       "count  25.000000  25.000000\n",
       "mean    5.012000  51.480000\n",
       "std     2.525094  25.286887\n",
       "min     1.100000  17.000000\n",
       "25%     2.700000  30.000000\n",
       "50%     4.800000  47.000000\n",
       "75%     7.400000  75.000000\n",
       "max     9.200000  95.000000"
      ]
     },
     "execution_count": 5,
     "metadata": {},
     "output_type": "execute_result"
    }
   ],
   "source": [
    "df.describe()"
   ]
  },
  {
   "cell_type": "markdown",
   "id": "6fad458e",
   "metadata": {},
   "source": [
    "### Exploratory Data Analysis\n",
    "**Let's explore the data!**\n",
    "\n",
    "___\n",
    "**Using seaborn to create a jointplot to compare the Hours and Scores columns. Does the correlation make sense?**"
   ]
  },
  {
   "cell_type": "code",
   "execution_count": 6,
   "id": "b4a8b08b",
   "metadata": {},
   "outputs": [
    {
     "data": {
      "text/plain": [
       "<seaborn.axisgrid.JointGrid at 0x2e2ac7ccf70>"
      ]
     },
     "execution_count": 6,
     "metadata": {},
     "output_type": "execute_result"
    },
    {
     "data": {
      "image/png": "[encoded data removed]",
      "text/plain": [
       "<Figure size 432x432 with 3 Axes>"
      ]
     },
     "metadata": {
      "needs_background": "light"
     },
     "output_type": "display_data"
    }
   ],
   "source": [
    "sns.jointplot(x='Hours',y='Scores',data=df)"
   ]
  },
  {
   "cell_type": "markdown",
   "id": "915cb887",
   "metadata": {},
   "source": [
    "**From above plot we can see that the Hours and Scores columns are highly correlated let's confirm it with python's corr() method**"
   ]
  },
  {
   "cell_type": "code",
   "execution_count": 7,
   "id": "f46dcef5",
   "metadata": {},
   "outputs": [
    {
     "data": {
      "text/html": [
       "<div>\n",
       "<style scoped>\n",
       "    .dataframe tbody tr th:only-of-type {\n",
       "        vertical-align: middle;\n",
       "    }\n",
       "\n",
       "    .dataframe tbody tr th {\n",
       "        vertical-align: top;\n",
       "    }\n",
       "\n",
       "    .dataframe thead th {\n",
       "        text-align: right;\n",
       "    }\n",
       "</style>\n",
       "<table border=\"1\" class=\"dataframe\">\n",
       "  <thead>\n",
       "    <tr style=\"text-align: right;\">\n",
       "      <th></th>\n",
       "      <th>Hours</th>\n",
       "      <th>Scores</th>\n",
       "    </tr>\n",
       "  </thead>\n",
       "  <tbody>\n",
       "    <tr>\n",
       "      <th>Hours</th>\n",
       "      <td>1.000000</td>\n",
       "      <td>0.976191</td>\n",
       "    </tr>\n",
       "    <tr>\n",
       "      <th>Scores</th>\n",
       "      <td>0.976191</td>\n",
       "      <td>1.000000</td>\n",
       "    </tr>\n",
       "  </tbody>\n",
       "</table>\n",
       "</div>"
      ],
      "text/plain": [
       "           Hours    Scores\n",
       "Hours   1.000000  0.976191\n",
       "Scores  0.976191  1.000000"
      ]
     },
     "execution_count": 7,
     "metadata": {},
     "output_type": "execute_result"
    }
   ],
   "source": [
    "df.corr()"
   ]
  },
  {
   "cell_type": "markdown",
   "id": "d325874a",
   "metadata": {},
   "source": [
    "**Creating a linear model plot (using seaborn's lmplot) for Hours vs. Scores for finalizing collinearity between them**"
   ]
  },
  {
   "cell_type": "code",
   "execution_count": 8,
   "id": "1d2ce664",
   "metadata": {},
   "outputs": [
    {
     "data": {
      "text/plain": [
       "<seaborn.axisgrid.FacetGrid at 0x2e2a8aa23a0>"
      ]
     },
     "execution_count": 8,
     "metadata": {},
     "output_type": "execute_result"
    },
    {
     "data": {
      "image/png": "[encoded data removed]",
      "text/plain": [
       "<Figure size 360x360 with 1 Axes>"
      ]
     },
     "metadata": {
      "needs_background": "light"
     },
     "output_type": "display_data"
    }
   ],
   "source": [
    "sns.lmplot(x='Hours',y='Scores',data=df)"
   ]
  },
  {
   "cell_type": "markdown",
   "id": "18a8f599",
   "metadata": {},
   "source": [
    "As the data is highly correlated let's move forward towards training our linear model."
   ]
  },
  {
   "cell_type": "markdown",
   "id": "ae457860",
   "metadata": {},
   "source": [
    "## Training and Testing Data\n",
    "Now that we've explored the data a bit, let's go ahead and train our data.\n",
    "\n",
    "**Setting a variable X equal to the \"Hours\" and a variable y equal to the \"Scores\" column.**"
   ]
  },
  {
   "cell_type": "code",
   "execution_count": 8,
   "id": "e56e2758",
   "metadata": {},
   "outputs": [
    {
     "data": {
      "text/plain": [
       "(25, 2)"
      ]
     },
     "execution_count": 8,
     "metadata": {},
     "output_type": "execute_result"
    }
   ],
   "source": [
    "#Check the shape of the data\n",
    "df.shape"
   ]
  },
  {
   "cell_type": "code",
   "execution_count": 9,
   "id": "4d89bba7",
   "metadata": {},
   "outputs": [],
   "source": [
    "#collecting X and y values\n",
    "x = df['Hours'].values\n",
    "y = df['Scores'].values"
   ]
  },
  {
   "cell_type": "code",
   "execution_count": 10,
   "id": "7089b851",
   "metadata": {},
   "outputs": [],
   "source": [
    "#Cannot use Rank 1 Matrix in scikit-learn \n",
    "#Hence we've to reshape our data either using array.reshape(-1, 1) if our data has a single feature or array.reshape(1, -1) if it contains a single sample.\n",
    "X = x.reshape((-1,1))"
   ]
  },
  {
   "cell_type": "markdown",
   "id": "53235956",
   "metadata": {},
   "source": [
    "**Using model_selection.train_test_split from sklearn to split the data into training and testing sets. Set test_size=0.2 and random_state=101**"
   ]
  },
  {
   "cell_type": "code",
   "execution_count": 11,
   "id": "bb3d5d31",
   "metadata": {},
   "outputs": [],
   "source": [
    "from sklearn.model_selection import train_test_split"
   ]
  },
  {
   "cell_type": "code",
   "execution_count": 12,
   "id": "6289805a",
   "metadata": {},
   "outputs": [],
   "source": [
    "X_train, X_test, y_train, y_test = train_test_split(X, y, test_size=0.2, random_state=101)"
   ]
  },
  {
   "cell_type": "markdown",
   "id": "5c3e73cc",
   "metadata": {},
   "source": [
    "## Training the Model\n",
    "\n",
    "Now its time to train our model on our data!\n",
    "\n",
    "**Import LinearRegression from sklearn.linear_model**"
   ]
  },
  {
   "cell_type": "code",
   "execution_count": 13,
   "id": "705283f9",
   "metadata": {},
   "outputs": [],
   "source": [
    "from sklearn.linear_model import LinearRegression"
   ]
  },
  {
   "cell_type": "markdown",
   "id": "64de522e",
   "metadata": {},
   "source": [
    "**Creating an instance of a LinearRegression() model named lm.**"
   ]
  },
  {
   "cell_type": "code",
   "execution_count": 14,
   "id": "5f0ade7b",
   "metadata": {},
   "outputs": [],
   "source": [
    "lm = LinearRegression()"
   ]
  },
  {
   "cell_type": "code",
   "execution_count": 15,
   "id": "7794e056",
   "metadata": {},
   "outputs": [
    {
     "data": {
      "text/plain": [
       "LinearRegression()"
      ]
     },
     "execution_count": 15,
     "metadata": {},
     "output_type": "execute_result"
    }
   ],
   "source": [
    "#Train/fit lm on the data.\n",
    "lm.fit(X_train,y_train)"
   ]
  },
  {
   "cell_type": "markdown",
   "id": "e1448461",
   "metadata": {},
   "source": [
    "**Printing out the coefficient of the model**"
   ]
  },
  {
   "cell_type": "code",
   "execution_count": 16,
   "id": "a170d510",
   "metadata": {},
   "outputs": [
    {
     "name": "stdout",
     "output_type": "stream",
     "text": [
      "Coefficient:  [9.73330705]\n"
     ]
    }
   ],
   "source": [
    "# The coefficient\n",
    "print('Coefficient: ', lm.coef_)"
   ]
  },
  {
   "cell_type": "code",
   "execution_count": 17,
   "id": "068e084f",
   "metadata": {},
   "outputs": [
    {
     "name": "stdout",
     "output_type": "stream",
     "text": [
      "Intercept:  2.512129298320076\n"
     ]
    }
   ],
   "source": [
    "#The intercept\n",
    "print('Intercept: ', lm.intercept_)"
   ]
  },
  {
   "cell_type": "markdown",
   "id": "20414498",
   "metadata": {},
   "source": [
    "## Predicting y\n",
    "Now that we have fit our model, let's evaluate its performance by predicting off the X values!\n",
    " \n",
    "** Using lm.predict() to predict off the X set of the data.**"
   ]
  },
  {
   "cell_type": "code",
   "execution_count": 18,
   "id": "7451afac",
   "metadata": {},
   "outputs": [],
   "source": [
    "y_predictions = lm.predict(X_test)"
   ]
  },
  {
   "cell_type": "markdown",
   "id": "d09fba40",
   "metadata": {},
   "source": [
    "**Creating a scatterplot of the real test percentage versus the predicted percentage.**"
   ]
  },
  {
   "cell_type": "code",
   "execution_count": 20,
   "id": "299cedf2",
   "metadata": {},
   "outputs": [
    {
     "data": {
      "text/plain": [
       "Text(0, 0.5, 'Predicted Y')"
      ]
     },
     "execution_count": 20,
     "metadata": {},
     "output_type": "execute_result"
    },
    {
     "data": {
      "image/png": "[encoded data removed]",
      "text/plain": [
       "<Figure size 432x288 with 1 Axes>"
      ]
     },
     "metadata": {
      "needs_background": "light"
     },
     "output_type": "display_data"
    }
   ],
   "source": [
    "plt.scatter(y_test,y_predictions)\n",
    "plt.xlabel('Real_Y')\n",
    "plt.ylabel('Predicted Y')"
   ]
  },
  {
   "cell_type": "code",
   "execution_count": 21,
   "id": "8bd61809",
   "metadata": {},
   "outputs": [
    {
     "data": {
      "text/plain": [
       "[<matplotlib.lines.Line2D at 0x2e2ae9cb8b0>]"
      ]
     },
     "execution_count": 21,
     "metadata": {},
     "output_type": "execute_result"
    },
    {
     "data": {
      "image/png": "[encoded data removed]",
      "text/plain": [
       "<Figure size 432x288 with 1 Axes>"
      ]
     },
     "metadata": {
      "needs_background": "light"
     },
     "output_type": "display_data"
    }
   ],
   "source": [
    "# Our predictions\n",
    "plt.scatter(y_test,y_predictions)\n",
    "\n",
    "# Perfect predictions\n",
    "plt.plot(y_test,y_test,'r')"
   ]
  },
  {
   "cell_type": "markdown",
   "id": "31a5b907",
   "metadata": {},
   "source": [
    "**Predicting test data**"
   ]
  },
  {
   "cell_type": "code",
   "execution_count": 19,
   "id": "508ad40e",
   "metadata": {},
   "outputs": [
    {
     "data": {
      "text/html": [
       "<div>\n",
       "<style scoped>\n",
       "    .dataframe tbody tr th:only-of-type {\n",
       "        vertical-align: middle;\n",
       "    }\n",
       "\n",
       "    .dataframe tbody tr th {\n",
       "        vertical-align: top;\n",
       "    }\n",
       "\n",
       "    .dataframe thead th {\n",
       "        text-align: right;\n",
       "    }\n",
       "</style>\n",
       "<table border=\"1\" class=\"dataframe\">\n",
       "  <thead>\n",
       "    <tr style=\"text-align: right;\">\n",
       "      <th></th>\n",
       "      <th>Actual</th>\n",
       "      <th>Predicted</th>\n",
       "    </tr>\n",
       "  </thead>\n",
       "  <tbody>\n",
       "    <tr>\n",
       "      <th>0</th>\n",
       "      <td>30</td>\n",
       "      <td>26.845397</td>\n",
       "    </tr>\n",
       "    <tr>\n",
       "      <th>1</th>\n",
       "      <td>85</td>\n",
       "      <td>77.458594</td>\n",
       "    </tr>\n",
       "    <tr>\n",
       "      <th>2</th>\n",
       "      <td>35</td>\n",
       "      <td>39.498696</td>\n",
       "    </tr>\n",
       "    <tr>\n",
       "      <th>3</th>\n",
       "      <td>69</td>\n",
       "      <td>74.538601</td>\n",
       "    </tr>\n",
       "    <tr>\n",
       "      <th>4</th>\n",
       "      <td>60</td>\n",
       "      <td>56.045318</td>\n",
       "    </tr>\n",
       "  </tbody>\n",
       "</table>\n",
       "</div>"
      ],
      "text/plain": [
       "   Actual  Predicted\n",
       "0      30  26.845397\n",
       "1      85  77.458594\n",
       "2      35  39.498696\n",
       "3      69  74.538601\n",
       "4      60  56.045318"
      ]
     },
     "execution_count": 19,
     "metadata": {},
     "output_type": "execute_result"
    }
   ],
   "source": [
    "# Comparing Actual vs Predicted\n",
    "df = pd.DataFrame({'Actual': y_test, 'Predicted': y_predictions})  \n",
    "df "
   ]
  },
  {
   "cell_type": "code",
   "execution_count": 20,
   "id": "4b70e5e1",
   "metadata": {},
   "outputs": [
    {
     "data": {
      "image/png": "[encoded data removed]",
      "text/plain": [
       "<Figure size 432x288 with 1 Axes>"
      ]
     },
     "metadata": {
      "needs_background": "light"
     },
     "output_type": "display_data"
    }
   ],
   "source": [
    "# Plotting the regression line\n",
    "line = lm.coef_*X + lm.intercept_\n",
    "\n",
    "# Plotting for the test data\n",
    "plt.scatter(X, y, color ='blue')\n",
    "plt.plot(X, line, 'r');\n",
    "plt.show()"
   ]
  },
  {
   "cell_type": "markdown",
   "id": "b71c3f79",
   "metadata": {},
   "source": [
    "**WHAT WILL BE PREDICTED SCORE IF A STUDENT STUDIED FOR 9.25 HRS/DAY?**"
   ]
  },
  {
   "cell_type": "code",
   "execution_count": 21,
   "id": "ff009f8f",
   "metadata": {},
   "outputs": [
    {
     "name": "stdout",
     "output_type": "stream",
     "text": [
      "[92.54521954]\n"
     ]
    }
   ],
   "source": [
    "#predicting the percentage if a student for 9.25 hours\n",
    "X_new = 9.25\n",
    "Y_pred = lm.predict([[X_new]])\n",
    "print(Y_pred)"
   ]
  },
  {
   "cell_type": "markdown",
   "id": "5fe64e8b",
   "metadata": {},
   "source": [
    "**HENCE IF A STUDENT STUDIED FOR 9.25 HRS/DAY ITS SCORE WILL BE 9.2**"
   ]
  },
  {
   "cell_type": "markdown",
   "id": "15e5ea81",
   "metadata": {},
   "source": [
    "## Evaluating the Model\n",
    "\n",
    "Let's evaluate our model performance by calculating the explained variance score (R^2).\n",
    "\n",
    "**Calculating the Mean Absolute Error, Mean Squared Error, and the Root Mean Squared Error.**"
   ]
  },
  {
   "cell_type": "code",
   "execution_count": 22,
   "id": "e33dae06",
   "metadata": {},
   "outputs": [
    {
     "name": "stdout",
     "output_type": "stream",
     "text": [
      "MAE: 4.937597792467706\n",
      "MSE: 26.67564259705224\n",
      "RMSE: 5.164846812544612\n"
     ]
    }
   ],
   "source": [
    "from sklearn import metrics\n",
    "\n",
    "print('MAE:', metrics.mean_absolute_error(y_test, y_predictions))\n",
    "print('MSE:', metrics.mean_squared_error(y_test, y_predictions))\n",
    "print('RMSE:', np.sqrt(metrics.mean_squared_error(y_test, y_predictions)))"
   ]
  },
  {
   "cell_type": "markdown",
   "id": "c8ffa288",
   "metadata": {},
   "source": [
    "**As we can see over here on average we are off by 4.9 percent score according to MSE** "
   ]
  },
  {
   "cell_type": "code",
   "execution_count": 23,
   "id": "ec302e45",
   "metadata": {},
   "outputs": [
    {
     "name": "stdout",
     "output_type": "stream",
     "text": [
      "0.9528747136030468\n"
     ]
    }
   ],
   "source": [
    "#Calculating R2 Score\n",
    "r2score = lm.score(X,y)\n",
    "print(r2score)"
   ]
  }
 ],
 "metadata": {
  "kernelspec": {
   "display_name": "Python 3",
   "language": "python",
   "name": "python3"
  },
  "language_info": {
   "codemirror_mode": {
    "name": "ipython",
    "version": 3
   },
   "file_extension": ".py",
   "mimetype": "text/x-python",
   "name": "python",
   "nbconvert_exporter": "python",
   "pygments_lexer": "ipython3",
   "version": "3.8.8"
  }
 },
 "nbformat": 4,
 "nbformat_minor": 5
}
